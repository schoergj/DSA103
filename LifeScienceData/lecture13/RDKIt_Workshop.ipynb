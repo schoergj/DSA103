{
 "cells": [
  {
   "cell_type": "markdown",
   "id": "63817116",
   "metadata": {},
   "source": [
    "# RDKit workshop\n",
    "\n",
    "In the following, RDKit will be applied to explore a chemical dataset (Delaney) on the solubility of various substances in water (logS(mol/L))."
   ]
  },
  {
   "cell_type": "markdown",
   "id": "0fe133bb",
   "metadata": {},
   "source": [
    "### Part 1: Data loading and exploration\n",
    "\n",
    "Inspect the dataset and visualise the solubility distribution (EDA). Tasks:\n",
    "- How many compounds are in the dataset?\n",
    "- What is the average and range of the solubility values in the dataset?\n",
    "- Are there extreme outliers (e.g. box plot)?"
   ]
  },
  {
   "cell_type": "code",
   "execution_count": null,
   "id": "fd60ae7d",
   "metadata": {},
   "outputs": [],
   "source": [
    "import pandas as pd\n",
    "import seaborn as sns\n",
    "import matplotlib.pyplot as plt\n",
    "\n",
    "df = pd.read_csv(\"delaney.csv\")\n",
    "df"
   ]
  },
  {
   "cell_type": "code",
   "execution_count": null,
   "id": "1574f93d",
   "metadata": {},
   "outputs": [],
   "source": []
  },
  {
   "cell_type": "code",
   "execution_count": null,
   "id": "99102051",
   "metadata": {},
   "outputs": [],
   "source": [
    "\n",
    "sns.histplot(df['logS'], bins=20, kde=True)\n",
    "plt.title(\"Distribution of Aqueous Solubility (logS)\")\n",
    "plt.show()"
   ]
  },
  {
   "cell_type": "markdown",
   "id": "79388ddd",
   "metadata": {},
   "source": [
    "### Part 2: Compute descriptors with RDKit\n",
    "\n",
    "Calculate molecular descriptors from the SMILES. See snippet below for the syntax of doing so.\n",
    "\n",
    "Tasks:\n",
    "- Compute 5-10 descriptors based on the SMILES (e.g. use the apply() method in pandas) and add them to the DataFrame\n",
    "- Find out if there is any correlation of the descriptors and the solubility (e.g. plots)\n",
    "\n",
    "Some info on available descriptors: \n",
    "- https://github.com/hypowergravity/RDKitDescriptorExamples-\n",
    "- https://schwallergroup.github.io/practical-programming-in-chemistry/tutorials/lecture_05/02_rdkit_descriptors.html\n",
    "- https://deepwiki.com/rdkit/rdkit/6.1-chemical-reactions#molecular-descriptors-and-properties"
   ]
  },
  {
   "cell_type": "code",
   "execution_count": null,
   "id": "b636ee90",
   "metadata": {},
   "outputs": [],
   "source": [
    "from rdkit import Chem\n",
    "from rdkit.Chem import Descriptors\n",
    "\n",
    "# Syntax for deriving descriptors:\n",
    "# 1) convert smiles to Mol: mol = Chem.MolFromSmiles(smiles)\n",
    "# 2) derive descriptor, e.g. for MolWt: descr = Descriptors.MolWt(mol)\n",
    "\n"
   ]
  },
  {
   "cell_type": "markdown",
   "id": "9688df67",
   "metadata": {},
   "source": [
    "### Part 3: Predict solubility (Regression Model)\n",
    "\n",
    "Use the code below to predict the logS using a RandomForestRegressor:"
   ]
  },
  {
   "cell_type": "code",
   "execution_count": null,
   "id": "1028d94c",
   "metadata": {},
   "outputs": [],
   "source": [
    "from sklearn.model_selection import train_test_split\n",
    "from sklearn.ensemble import RandomForestRegressor\n",
    "from sklearn.metrics import r2_score, mean_squared_error\n",
    "import numpy as np\n",
    "\n",
    "X = df.drop(columns=[\"logS\", \"Compound ID\", \"SMILES\"], axis=1)\n",
    "y = df[\"logS\"]\n",
    "\n",
    "X_train, X_test, y_train, y_test = train_test_split(X, y, test_size=0.2, random_state=42)\n",
    "model = RandomForestRegressor(n_estimators=200, random_state=42)\n",
    "model.fit(X_train, y_train)\n",
    "pred = model.predict(X_test)\n",
    "\n",
    "print(\"R²:\", r2_score(y_test, pred))\n",
    "print(\"RMSE:\", np.sqrt(mean_squared_error(y_test, pred)))\n",
    "print(\"train accuracy:\", model.score(X_train, y_train))\n",
    "print(\"test accuracy:\", model.score(X_test, y_test))\n"
   ]
  },
  {
   "cell_type": "markdown",
   "id": "d9f5ae07",
   "metadata": {},
   "source": [
    "Based on the EDA, which descriptors might influence the solubility the most?"
   ]
  },
  {
   "cell_type": "code",
   "execution_count": null,
   "id": "4389c7e0",
   "metadata": {},
   "outputs": [],
   "source": [
    "feat_importances = pd.Series(model.feature_importances_, index=X.columns)\n",
    "feat_importances.sort_values().plot(kind='barh')\n",
    "plt.title(\"Feature Importances\")\n",
    "plt.show()"
   ]
  },
  {
   "cell_type": "markdown",
   "id": "079470df",
   "metadata": {},
   "source": [
    "### Part 4: Similarity Search\n",
    "\n",
    "Create fingerprints from the SMILES and add them to the dataframe."
   ]
  },
  {
   "cell_type": "code",
   "execution_count": null,
   "id": "a2acb79b",
   "metadata": {},
   "outputs": [],
   "source": [
    "from rdkit.Chem import rdFingerprintGenerator, DataStructs\n",
    "\n",
    "# use e.g. the morgan FPG: mfpgen = rdFingerprintGenerator.GetMorganGenerator(radius=2,fpSize=2048)\n",
    "\n"
   ]
  },
  {
   "cell_type": "markdown",
   "id": "eaf40917",
   "metadata": {},
   "source": [
    "Calculate the Tanimoto similarity of the molecules in the dataframe in comparison to a molecule of your choice (e.g. caffeine, aniline, ethanol)."
   ]
  },
  {
   "cell_type": "code",
   "execution_count": null,
   "id": "b304da59",
   "metadata": {},
   "outputs": [],
   "source": [
    "query_fp = mol2fp(\"CN1C=NC2=C1C(=O)N(C(=O)N2C)C\")\n",
    "print(query_fp)\n",
    "\n",
    "df[\"similarity\"] = df[\"fingerprint\"].apply(lambda fp: DataStructs.TanimotoSimilarity(fp, query_fp))\n",
    "df"
   ]
  },
  {
   "cell_type": "markdown",
   "id": "1427bf91",
   "metadata": {},
   "source": [
    "### Part 5: Clustering molecules by strucutre\n",
    "\n",
    "Use fingerprints to group molecules into clusters (using k-means clustering) and visualise via PCA. Tasks:\n",
    "- Experiment with different numbers of clusters\n",
    "- Compute the average solubility per cluster\n",
    "- Do certain clusters correspond to highly or poorly soluble compounds?"
   ]
  },
  {
   "cell_type": "code",
   "execution_count": null,
   "id": "756d49a5",
   "metadata": {},
   "outputs": [],
   "source": [
    "from sklearn.decomposition import PCA\n",
    "from sklearn.cluster import KMeans\n",
    "import matplotlib.pyplot as plt\n",
    "\n",
    "fps = df[\"fingerprint\"].to_list()\n",
    "\n",
    "# Reduce dimensionality for visualization\n",
    "pca = PCA(n_components=2)\n",
    "X_pca = pca.fit_transform(fps)\n",
    "\n",
    "# K-means clustering\n",
    "kmeans = KMeans(n_clusters=4, random_state=42)\n",
    "clusters = kmeans.fit_predict(fps)\n",
    "df[\"cluster\"] = clusters\n",
    "\n",
    "# Visualize clusters\n",
    "plt.figure(figsize=(7,6))\n",
    "plt.scatter(X_pca[:,0], X_pca[:,1], c=clusters, cmap=\"tab10\", s=20)\n",
    "plt.title(\"Molecular Clustering based on Fingerprints (PCA projection)\")\n",
    "plt.xlabel(\"PC1\"); plt.ylabel(\"PC2\")\n",
    "plt.show()"
   ]
  },
  {
   "cell_type": "code",
   "execution_count": null,
   "id": "df7a08c6",
   "metadata": {},
   "outputs": [],
   "source": [
    "print(df.groupby(\"cluster\")[\"logS\"].mean())"
   ]
  },
  {
   "cell_type": "code",
   "execution_count": null,
   "id": "7d256b9d",
   "metadata": {},
   "outputs": [],
   "source": [
    "df[\"has_aromat\"] = df[\"SMILES\"].apply(lambda s: Chem.MolFromSmiles(s).HasSubstructMatch(Chem.MolFromSmarts(\"a\")))\n",
    "pd.crosstab(df[\"cluster\"], df[\"has_aromat\"])"
   ]
  },
  {
   "cell_type": "markdown",
   "id": "55592ea1",
   "metadata": {},
   "source": [
    "### Part 6: Substructure Search via SMARTS\n",
    "\n",
    "Search for specific functional groups or chemical motifs within the dataset using SMARTS (SMiles ARbitrary Target Specification): e.g. alcohol = \"[OX2H]\", carboxylic acid = \"C(=O)[OH]\", aromatic compounds = \"a\", amines = \"[NX3;H2,H1;!$(NC=O)]\"\n",
    "\n",
    "See here for a more detailed list of SMARTS: https://www.daylight.com/dayhtml/doc/theory/theory.smarts.html \n",
    "\n",
    "Tasks:\n",
    "- Count how many molecules contain each functional group (method: Mol.HasSubstructMatch(SMARTS)).\n",
    "- Compare average solubility for molecules with vs. without each substructure.\n",
    "- Visualize with a bar plot."
   ]
  },
  {
   "cell_type": "code",
   "execution_count": null,
   "id": "5070866f",
   "metadata": {},
   "outputs": [],
   "source": [
    "from rdkit import Chem\n",
    "\n",
    "patterns = {\n",
    "    \"Hydroxyl\": Chem.MolFromSmarts(\"[OX2H]\"),\n",
    "}\n",
    "\n",
    "\n"
   ]
  },
  {
   "cell_type": "code",
   "execution_count": null,
   "id": "a2d5e43f",
   "metadata": {},
   "outputs": [],
   "source": [
    "df[list(patterns.keys())].sum()"
   ]
  },
  {
   "cell_type": "code",
   "execution_count": null,
   "id": "fbb5f599",
   "metadata": {},
   "outputs": [],
   "source": [
    "for name in patterns.keys():\n",
    "    print(df.groupby(name)[\"logS\"].mean())"
   ]
  },
  {
   "cell_type": "code",
   "execution_count": null,
   "id": "9e3569e0",
   "metadata": {},
   "outputs": [],
   "source": [
    "import seaborn as sns\n",
    "means = {}\n",
    "\n",
    "for name in patterns.keys():\n",
    "    mean_series = df.groupby(name)[\"logS\"].mean()\n",
    "    if len(mean_series) > 1:\n",
    "        val = mean_series.iloc[1]\n",
    "        means[name] = val\n",
    "    else:\n",
    "        print(f\"No {name} in dataset\")\n",
    "\n",
    "sns.barplot(x=list(means.keys()), y=list(means.values()))\n",
    "plt.title(\"Average Solubility by Functional Group Presence\")\n",
    "plt.ylabel(\"Mean logS\")\n",
    "plt.show()"
   ]
  },
  {
   "cell_type": "code",
   "execution_count": null,
   "id": "ed647c01",
   "metadata": {},
   "outputs": [],
   "source": []
  }
 ],
 "metadata": {
  "kernelspec": {
   "display_name": "LifeScienceData",
   "language": "python",
   "name": "python3"
  },
  "language_info": {
   "codemirror_mode": {
    "name": "ipython",
    "version": 3
   },
   "file_extension": ".py",
   "mimetype": "text/x-python",
   "name": "python",
   "nbconvert_exporter": "python",
   "pygments_lexer": "ipython3",
   "version": "3.13.7"
  }
 },
 "nbformat": 4,
 "nbformat_minor": 5
}
