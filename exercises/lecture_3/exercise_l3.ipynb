{
 "cells": [
  {
   "cell_type": "markdown",
   "id": "88cf68ae",
   "metadata": {},
   "source": [
    "# Lecture 3: Python Review 1\n"
   ]
  },
  {
   "cell_type": "markdown",
   "id": "30cc2a6d",
   "metadata": {},
   "source": [
    "## Key Concepts Review"
   ]
  },
  {
   "cell_type": "markdown",
   "id": "20143f0a",
   "metadata": {},
   "source": [
    "### Variable Assignment and Types"
   ]
  },
  {
   "cell_type": "code",
   "execution_count": 4,
   "id": "0068bfec",
   "metadata": {},
   "outputs": [],
   "source": [
    "# Variable assignment\n",
    "mass = 12.01          # float\n",
    "atomic_number = 6     # int\n",
    "element = \"Carbon\"    # string\n",
    "\n",
    "# Type matters! Wrong type = wrong result\n",
    "concentration = \"0.5\"  # string, not number!\n",
    "dilution = concentration * 2  # Result: \"0.50.5\" (not 1.0!)\n",
    "\n",
    "# Correct way\n",
    "concentration = 0.5   # float\n",
    "dilution = concentration * 2  # Result: 1.0\n",
    "\n",
    "# Play a bit around with different variables and pitfalls that occur"
   ]
  },
  {
   "cell_type": "markdown",
   "id": "a5702267",
   "metadata": {},
   "source": [
    "### Scope (Local vs Global)"
   ]
  },
  {
   "cell_type": "code",
   "execution_count": 6,
   "id": "df6d539a",
   "metadata": {},
   "outputs": [
    {
     "name": "stdout",
     "output_type": "stream",
     "text": [
      "7.0\n"
     ]
    }
   ],
   "source": [
    "pH = 7.0  # Global variable\n",
    "\n",
    "def calculate_pOH():\n",
    "    pH = 5.0  # Local variable (shadows global)\n",
    "    pOH = 14 - pH  # Uses local pH\n",
    "    return pOH\n",
    "\n",
    "print(pH)  # Still 7.0 (global unchanged)\n",
    "\n",
    "# Try print pH from inside the function!"
   ]
  },
  {
   "cell_type": "markdown",
   "id": "8786d3dd",
   "metadata": {},
   "source": [
    "### Data Structures\n"
   ]
  },
  {
   "cell_type": "code",
   "execution_count": 8,
   "id": "a9e9b144",
   "metadata": {},
   "outputs": [],
   "source": [
    "# Lists (mutable, ordered)\n",
    "elements = [\"H\", \"He\", \"Li\", \"Be\"]\n",
    "elements.append(\"B\")  # Modifies the list\n",
    "\n",
    "# Tuples (immutable, ordered)\n",
    "water_formula = (\"H\", 2, \"O\", 1)  # Cannot be changed\n",
    "\n",
    "# Dictionaries (mutable, key-value pairs)\n",
    "atomic_masses = {\"H\": 1.008, \"O\": 15.999, \"C\": 12.01}\n",
    "\n",
    "# Try adding, removing and finding values inside of a list, tuple and a dictionary"
   ]
  },
  {
   "cell_type": "markdown",
   "id": "15241982",
   "metadata": {},
   "source": [
    "### Functions and Modules\n"
   ]
  },
  {
   "cell_type": "code",
   "execution_count": 11,
   "id": "92aaa672",
   "metadata": {},
   "outputs": [],
   "source": [
    "import math  # Import entire module\n",
    "from math import sqrt  # Import specific function\n",
    "\n",
    "def calculate_molarity(moles, volume_L):\n",
    "    \"\"\"Calculate molarity from moles and volume\"\"\"\n",
    "    return moles / volume_L\n",
    "\n",
    "# Checkout what other functions are present within the math library in the online documentation."
   ]
  },
  {
   "cell_type": "markdown",
   "id": "d810fe95",
   "metadata": {},
   "source": [
    "## Exercise 1: Chemical Weight Calculator"
   ]
  },
  {
   "cell_type": "markdown",
   "id": "0c22acd4",
   "metadata": {},
   "source": [
    "\n",
    "**Objective**: Practice variable assignment, types, and basic data structures while calculating molecular properties.\n",
    "\n",
    "**Problem**: Create a molecular weight calculator.\n",
    "\n",
    "**Your Task**: Write functions that work with chemical formulas stored in different data structures.\n"
   ]
  },
  {
   "cell_type": "code",
   "execution_count": 10,
   "id": "7fcbab65",
   "metadata": {},
   "outputs": [
    {
     "name": "stdout",
     "output_type": "stream",
     "text": [
      "18.015\n",
      "18.015\n",
      "18.015\n"
     ]
    }
   ],
   "source": [
    "# Given data structures\n",
    "atomic_masses = {\n",
    "    \"H\": 1.008, \"C\": 12.01, \"N\": 14.007, \"O\": 15.999, \n",
    "    \"Na\": 22.990, \"Cl\": 35.45, \"Ca\": 40.078, \"S\": 32.06\n",
    "}\n",
    "\n",
    "# Different ways to represent water (H2O)\n",
    "water_dict = {\"H\": 2, \"O\": 1}\n",
    "water_list = [\"H\", \"H\", \"O\"]  \n",
    "water_tuple = ((\"H\", 2), (\"O\", 1))\n",
    "\n",
    "#dictionnary\n",
    "tot_dict = 0\n",
    "for i in water_dict:\n",
    "    tot_dict += water_dict[i] * atomic_masses[i]\n",
    "print(tot_dict)\n",
    "\n",
    "#list\n",
    "tot_list = 0\n",
    "for i in water_list:\n",
    "    tot_list += atomic_masses[i]\n",
    "print(tot_list)\n",
    "\n",
    "#tuple\n",
    "tot_tuple = 0\n",
    "for i in water_tuple:\n",
    "    tot_tuple += i[1] * atomic_masses[i[0]]\n",
    "print(tot_tuple)"
   ]
  },
  {
   "cell_type": "markdown",
   "id": "405d7a85",
   "metadata": {},
   "source": [
    "**Functions to Write**:\n",
    "Write a function to calculate the molecular weight from each of the different data structures."
   ]
  },
  {
   "cell_type": "code",
   "execution_count": null,
   "id": "0cbcebaf",
   "metadata": {},
   "outputs": [],
   "source": [
    "from typing import Dict\n",
    "\n",
    "def calculate_mass_from_dict(formula_dict: Dict[str, int], masses: Dict[str, float]):\n",
    "    \"\"\"Calculate molecular mass from dictionary format\"\"\"\n",
    "    # Example: {\"H\": 2, \"O\": 1} should return 18.016"
   ]
  },
  {
   "cell_type": "code",
   "execution_count": null,
   "id": "d16b8025",
   "metadata": {},
   "outputs": [],
   "source": [
    "from typing import Dict, List\n",
    "\n",
    "def calculate_mass_from_list(element_list: List[str], masses: Dict[str, float]):\n",
    "    \"\"\"Calculate molecular mass from list format\"\"\"\n",
    "    # Example: [\"H\", \"H\", \"O\"] should return 18.016\n",
    "    "
   ]
  },
  {
   "cell_type": "code",
   "execution_count": null,
   "id": "71742027",
   "metadata": {},
   "outputs": [],
   "source": [
    "from typing import Dict, Tuple\n",
    "\n",
    "def calculate_mass_from_tuple(formula_tuple: Tuple[Tuple[str, int]], masses: Dict[str, float]):\n",
    "    \"\"\"Calculate molecular mass from tuple format\"\"\"\n",
    "    # Example: ((\"H\", 2), (\"O\", 1)) should return 18.016\n",
    "    "
   ]
  },
  {
   "cell_type": "markdown",
   "id": "29e67c82",
   "metadata": {},
   "source": [
    "### Test cases:"
   ]
  },
  {
   "cell_type": "code",
   "execution_count": null,
   "id": "584ab8af",
   "metadata": {},
   "outputs": [],
   "source": [
    "# Test with H2O \n",
    "\n",
    "water_dict = {\"H\": 2, \"O\": 1}\n",
    "water_list = [\"H\", \"H\", \"O\"]\n",
    "water_tuple = ((\"H\", 2), (\"O\", 1))\n",
    "\n",
    "mass1 = calculate_mass_from_dict(water_dict, atomic_masses)\n",
    "mass2 = calculate_mass_from_list(water_list, atomic_masses)\n",
    "mass3 = calculate_mass_from_tuple(water_tuple, atomic_masses)\n",
    "\n",
    "print(f\"Dict method: {mass1}\")\n",
    "print(f\"List method: {mass2}\")\n",
    "print(f\"Tuple method: {mass3}\")"
   ]
  },
  {
   "cell_type": "code",
   "execution_count": null,
   "id": "f99e9129",
   "metadata": {},
   "outputs": [],
   "source": [
    "# Test with NaCl\n",
    "\n",
    "salt_dict = {\"Na\": 1, \"Cl\": 1}\n",
    "salt_list = [\"Na\", \"Cl\"]\n",
    "salt_tuple = ((\"Na\", 1), (\"Cl\", 1))\n",
    "\n",
    "mass1 = calculate_mass_from_dict(salt_dict, atomic_masses)\n",
    "mass2 = calculate_mass_from_list(salt_list, atomic_masses)\n",
    "mass3 = calculate_mass_from_tuple(salt_tuple, atomic_masses)\n",
    "\n",
    "print(f\"Dict method: {mass1}\")\n",
    "print(f\"List method: {mass2}\")\n",
    "print(f\"Tuple method: {mass3}\")"
   ]
  },
  {
   "cell_type": "markdown",
   "id": "e041b8d7",
   "metadata": {},
   "source": [
    "## Exercise 2: pH Buffer System Analyzer\n",
    "\n",
    "**Objective**: Work with functions, loops, and data structures to analyze chemical buffer systems.\n",
    "\n",
    "**Problem**: Create a system to analyze pH buffer solutions using the Henderson-Hasselbalch equation and manage experimental data.\n",
    "\n",
    "**Your Task**: Build functions that calculate buffer properties and store results in appropriate data structures.\n"
   ]
  },
  {
   "cell_type": "code",
   "execution_count": 14,
   "id": "c81ccb88",
   "metadata": {},
   "outputs": [],
   "source": [
    "# Buffer system data (pKa values)\n",
    "buffer_systems = {\n",
    "    \"acetic_acid\": {\"pKa\": 4.76, \"name\": \"Acetic Acid/Acetate\"},\n",
    "    \"phosphate\": {\"pKa\": 7.20, \"name\": \"Phosphate Buffer\"},\n",
    "    \"ammonia\": {\"pKa\": 9.25, \"name\": \"Ammonia/Ammonium\"},\n",
    "    \"carbonic\": {\"pKa\": 6.37, \"name\": \"Carbonic Acid/Bicarbonate\"}\n",
    "}"
   ]
  },
  {
   "cell_type": "markdown",
   "id": "eb2679c7",
   "metadata": {},
   "source": [
    "**Functions to Write**:\n",
    "Write functions for the following tasks."
   ]
  },
  {
   "cell_type": "code",
   "execution_count": 33,
   "id": "2893495d",
   "metadata": {},
   "outputs": [
    {
     "name": "stdout",
     "output_type": "stream",
     "text": [
      "acetic_acid\n",
      "(6.4, 8.4)\n",
      "Buffer: Phosphate Buffer, Base: 0.05, Acid: 0.1, pH: 6.506852819440055\n",
      "Buffer: Phosphate Buffer, Base: 0.1, Acid: 0.1, pH: 7.2\n",
      "Buffer: Phosphate Buffer, Base: 0.2, Acid: 0.1, pH: 7.893147180559946\n",
      "Buffer: Phosphate Buffer, pKa difference: 0.20000000000000018\n",
      "Buffer: Carbonic Acid/Bicarbonate, pKa difference: 1.0300000000000002\n",
      "Buffer: Ammonia/Ammonium, pKa difference: 1.8499999999999996\n",
      "Buffer: Acetic Acid/Acetate, pKa difference: 2.6400000000000006\n"
     ]
    }
   ],
   "source": [
    "import math\n",
    "\n",
    "def henderson_hasselbalch(pKa, base_conc, acid_conc):\n",
    "    \"\"\"Calculate pH using Henderson-Hasselbalch equation\"\"\"\n",
    "    pH = pKa + math.log(base_conc/acid_conc)\n",
    "    #print(pH)\n",
    "    return pH\n",
    "    pass\n",
    "henderson_hasselbalch(4.76, 0.1, 0.1)\n",
    "\n",
    "def find_best_buffer(target_pH, buffer_systems):\n",
    "    \"\"\"Find buffer system with pKa closest to target pH\"\"\"\n",
    "    buffer_list = []\n",
    "    for i in buffer_systems:\n",
    "        buffer_list.append([abs((buffer_systems[i][\"pKa\"]))-target_pH, i])\n",
    "    min_val =min(buffer_list, key=lambda x: x[0])\n",
    "    print(min_val[1])\n",
    "    pass\n",
    "find_best_buffer(7.4, buffer_systems)\n",
    "\n",
    "def calculate_buffer_range(pKa, tolerance=1.0):\n",
    "    \"\"\"Calculate effective buffer range (pKa ± tolerance)\"\"\"\n",
    "    upper = pKa + tolerance\n",
    "    lower = pKa - tolerance\n",
    "    print((lower, upper))\n",
    "    return lower, upper\n",
    "calculate_buffer_range(7.4)\n",
    "base_concs = [0.05, 0.1, 0.2]\n",
    "acid_concs = [0.1, 0.1, 0.1]\n",
    "def analyze_buffer_series(buffer_name, pKa, base_concentrations, acid_concentrations):\n",
    "    for bconc in base_concentrations:\n",
    "        for aconc in acid_concentrations:\n",
    "            pH = henderson_hasselbalch(pKa, bconc, aconc)\n",
    "        print(f\"Buffer: {buffer_name}, Base: {bconc}, Acid: {aconc}, pH: {pH}\")\n",
    "    results = []\n",
    "    # Use nested loops to test all combinations\n",
    "    pass\n",
    "analyze_buffer_series(\"Phosphate Buffer\", 7.2, base_concs, acid_concs)\n",
    "\n",
    "\n",
    "def buffer_capacity_rank(buffer_systems, target_pH):\n",
    "    \"\"\"Rank all buffers by how close their pKa is to target pH\"\"\"\n",
    "    buffer_list = []\n",
    "    for i in buffer_systems:\n",
    "        buffer_list.append([abs((buffer_systems[i][\"pKa\"])-target_pH), buffer_systems[i][\"name\"]])\n",
    "    sorted_list = sorted(buffer_list, key=lambda x: x[0])\n",
    "    for item in sorted_list:\n",
    "        print(f\"Buffer: {item[1]}, pKa difference: {item[0]}\")\n",
    "    pass\n",
    "buffer_capacity_rank(buffer_systems, 7.4)"
   ]
  },
  {
   "cell_type": "markdown",
   "id": "bfdd830a",
   "metadata": {},
   "source": [
    "\n",
    "**Test Cases**:\n",
    "```python\n",
    "# Test single pH calculation\n",
    "pH = henderson_hasselbalch(4.76, 0.1, 0.1)\n",
    "print(f\"pH with equal concentrations: {pH}\")  # Should equal pKa (4.76)\n",
    "\n",
    "# Test buffer selection\n",
    "best = find_best_buffer(7.4, buffer_systems)  # Human blood pH\n",
    "print(f\"Best buffer for pH 7.4: {best}\")\n",
    "\n",
    "# Test series analysis\n",
    "base_concs = [0.05, 0.1, 0.2]\n",
    "acid_concs = [0.1, 0.1, 0.1]\n",
    "results = analyze_buffer_series(\"acetic_acid\", 4.76, base_concs, acid_concs)\n",
    "for result in results:\n",
    "    print(f\"[Base]={result['base']}, [Acid]={result['acid']}, pH={result['pH']:.2f}\")\n",
    "\n",
    "# Test ranking\n",
    "rankings = buffer_capacity_rank(buffer_systems, 7.0)\n",
    "print(\"Buffer rankings for pH 7.0:\")\n",
    "for i, (name, data) in enumerate(rankings):\n",
    "    print(f\"{i+1}. {data['name']} (pKa = {data['pKa']})\")\n",
    "```\n"
   ]
  }
 ],
 "metadata": {
  "kernelspec": {
   "display_name": "DSA103",
   "language": "python",
   "name": "python3"
  },
  "language_info": {
   "codemirror_mode": {
    "name": "ipython",
    "version": 3
   },
   "file_extension": ".py",
   "mimetype": "text/x-python",
   "name": "python",
   "nbconvert_exporter": "python",
   "pygments_lexer": "ipython3",
   "version": "3.13.7"
  }
 },
 "nbformat": 4,
 "nbformat_minor": 5
}
