{
 "cells": [
  {
   "cell_type": "markdown",
   "id": "5b769ea5",
   "metadata": {},
   "source": [
    "# Lecture 2: Computational Thinking with Python"
   ]
  },
  {
   "cell_type": "markdown",
   "id": "2ccccb04",
   "metadata": {},
   "source": [
    "## Exercise 2: Chemical Equation Balancer Checker\n",
    "\n",
    "**Objective:** Write a program that checks if a chemical equation is balanced.\n",
    "\n",
    "**Problem:** Create a function called `is_balanced()` that takes a chemical equation string and returns True if balanced, False if not.\n",
    "\n",
    "**Your Task:**\n",
    "- Split the equation at the arrow symbol \"→\" to get reactants and products\n",
    "- For each side, parse the molecules and their coefficients\n",
    "- Count total atoms of each element on both sides\n",
    "- Compare the totals\n",
    "\n",
    "Example Equation Format: \"2H2 + O2 → 2H2O\"\n",
    "\n",
    "**Hints:**\n",
    "\n",
    "- Use equation.split(\"→\") to separate reactants from products\n",
    "- Use side.split(\" + \") to separate individual molecules\n",
    "- You'll need to handle coefficients (numbers in front of molecules)\n",
    "- Reuse your count_atoms() function from Exercise 1!\n",
    "- For molecules with coefficients like \"2H2O\", the coefficient applies to all atoms in that molecule\n",
    "\n",
    "**Steps to Think Through:**\n",
    "\n",
    "- How do you extract the coefficient from \"2H2O\"? (It's everything before the first letter)\n",
    "- How do you multiply the atom counts by the coefficient?\n",
    "- How do you combine counts from multiple molecules on the same side?\n"
   ]
  },
  {
   "cell_type": "code",
   "execution_count": null,
   "id": "47ac7c77",
   "metadata": {},
   "outputs": [],
   "source": [
    "def is_balanced(chem_eq: str) -> bool:\n",
    "    # Write your code here\n",
    "\n"
   ]
  },
  {
   "cell_type": "code",
   "execution_count": 47,
   "id": "7b28044c-87cf-4a39-90b2-70a5f0671ffd",
   "metadata": {},
   "outputs": [],
   "source": [
    "def parse_molecular_formula(formula):\n",
    "    a = [ch for ch in formula]\n",
    "    resulty = {}\n",
    "    j = 0\n",
    "    mult = 1\n",
    "\n",
    "    if a[0].isdigit():\n",
    "        mult = int(a[0])\n",
    "        j = 1  \n",
    "\n",
    "    while j < len(a):\n",
    "        if j+1 < len(a) and a[j+1].isdigit():\n",
    "            last_key = a[j]\n",
    "            resulty[last_key] = resulty.get(last_key, 0) + int(a[j+1])\n",
    "            j += 2\n",
    "        else:\n",
    "            last_key = a[j]\n",
    "            resulty[last_key] = resulty.get(last_key, 0) + 1\n",
    "            j += 1\n",
    "\n",
    "    scaled = {k: v * mult for k, v in resulty.items()}\n",
    "    print(scaled)\n",
    "    return scaled\n"
   ]
  },
  {
   "cell_type": "code",
   "execution_count": 48,
   "id": "a1c0420b-f9f1-4411-ad80-45de454c7079",
   "metadata": {},
   "outputs": [
    {
     "name": "stdout",
     "output_type": "stream",
     "text": [
      "{'H': 4, 'O': 2}\n"
     ]
    },
    {
     "data": {
      "text/plain": [
       "{'H': 4, 'O': 2}"
      ]
     },
     "execution_count": 48,
     "metadata": {},
     "output_type": "execute_result"
    }
   ],
   "source": [
    "parse_molecular_formula(\"2H2O\")"
   ]
  },
  {
   "cell_type": "code",
   "execution_count": 54,
   "id": "031f76ed-1428-4d64-ad6b-ec30731c9977",
   "metadata": {},
   "outputs": [
    {
     "name": "stdout",
     "output_type": "stream",
     "text": [
      "{'C': 1, 'H': 4}\n",
      "{'O': 4}\n",
      "{'C': 1, 'O': 2}\n",
      "{'H': 4, 'O': 2}\n",
      "[{'C': 1, 'H': 4, 'O': 4}, {'C': 1, 'O': 4, 'H': 4}]\n",
      "equal\n"
     ]
    }
   ],
   "source": [
    "\n",
    "def split(stri):\n",
    "    parts = stri.split(\"→\")\n",
    "    \n",
    "    parts = stri.split(\"→\")\n",
    "    parts = [p.strip() for p in parts]\n",
    "    \n",
    "    for j in range(len(parts)):\n",
    "        parts[j] = [y.strip() for y in parts[j].split(\"+\")]\n",
    "    \n",
    "    #print(parts)\n",
    "    return parts\n",
    "\n",
    "def merge_dicts(d1, d2):\n",
    "    merged = d1.copy()\n",
    "    for k, v in d2.items():\n",
    "        merged[k] = merged.get(k, 0) + v\n",
    "    return merged\n",
    "\n",
    "test = split(\"CH4 + 2O2 → CO2 + 2H2O\")\n",
    "results = []\n",
    "for side in test:            \n",
    "    total = {}\n",
    "    for mol in side:         \n",
    "        d = parse_molecular_formula(mol)\n",
    "        total = merge_dicts(total, d)   \n",
    "    results.append(total)\n",
    "print(results)\n",
    "\n",
    "if results[0] == results[1]:\n",
    "    print(\"equal\")\n",
    "else:\n",
    "    print(\"not equal\")\n"
   ]
  },
  {
   "cell_type": "code",
   "execution_count": 59,
   "id": "3e0d3da9-6c6c-4fac-b6b2-879704a7997d",
   "metadata": {},
   "outputs": [],
   "source": [
    "def is_balanced(equation):\n",
    "    def parse_molecular_formula(formula):\n",
    "        a = [ch for ch in formula]\n",
    "        resulty = {}\n",
    "        j = 0\n",
    "        mult = 1\n",
    "        if a[0].isdigit():\n",
    "            mult = int(a[0])\n",
    "            j = 1\n",
    "        while j < len(a):\n",
    "            if j+1 < len(a) and a[j+1].isdigit():\n",
    "                last_key = a[j]\n",
    "                resulty[last_key] = resulty.get(last_key, 0) + int(a[j+1])\n",
    "                j += 2\n",
    "            else:\n",
    "                last_key = a[j]\n",
    "                resulty[last_key] = resulty.get(last_key, 0) + 1\n",
    "                j += 1\n",
    "        return {k: v * mult for k, v in resulty.items()}\n",
    "\n",
    "    def merge_dicts(d1, d2):\n",
    "        merged = d1.copy()\n",
    "        for k, v in d2.items():\n",
    "            merged[k] = merged.get(k, 0) + v\n",
    "        return merged\n",
    "\n",
    "    parts = [p.strip() for p in equation.split(\"→\")]\n",
    "    sides = []\n",
    "    for p in parts:\n",
    "        sides.append([m.strip() for m in p.split(\"+\")])\n",
    "\n",
    "    results = []\n",
    "    for side in sides:\n",
    "        total = {}\n",
    "        for mol in side:\n",
    "            d = parse_molecular_formula(mol)\n",
    "            total = merge_dicts(total, d)\n",
    "        results.append(total)\n",
    "\n",
    "    print(\"Reactants:\", results[0])\n",
    "    print(\"Products:\", results[1])\n",
    "    if results[0] == results[1]:\n",
    "        return\"balanced\"\n",
    "    else:\n",
    "        return\"unbalanced\"\n"
   ]
  },
  {
   "cell_type": "markdown",
   "id": "70cdedcc",
   "metadata": {},
   "source": [
    "### Test Cases\n"
   ]
  },
  {
   "cell_type": "code",
   "execution_count": 60,
   "id": "3acbbf56",
   "metadata": {},
   "outputs": [
    {
     "name": "stdout",
     "output_type": "stream",
     "text": [
      "Reactants: {'H': 4, 'O': 2}\n",
      "Products: {'H': 4, 'O': 2}\n",
      "balanced\n",
      "Reactants: {'H': 4, 'O': 2}\n",
      "Products: {'H': 4, 'O': 2}\n",
      "Reactants: {'H': 2, 'O': 2}\n",
      "Products: {'H': 2, 'O': 1}\n",
      "unbalanced\n",
      "Reactants: {'H': 2, 'O': 2}\n",
      "Products: {'H': 2, 'O': 1}\n"
     ]
    },
    {
     "ename": "AssertionError",
     "evalue": "",
     "output_type": "error",
     "traceback": [
      "\u001b[31m---------------------------------------------------------------------------\u001b[39m",
      "\u001b[31mAssertionError\u001b[39m                            Traceback (most recent call last)",
      "\u001b[36mCell\u001b[39m\u001b[36m \u001b[39m\u001b[32mIn[60]\u001b[39m\u001b[32m, line 7\u001b[39m\n\u001b[32m      4\u001b[39m \u001b[38;5;28;01massert\u001b[39;00m is_balanced(\u001b[33m\"\u001b[39m\u001b[33m2H2 + O2 → 2H2O\u001b[39m\u001b[33m\"\u001b[39m)\n\u001b[32m      6\u001b[39m \u001b[38;5;28mprint\u001b[39m(is_balanced(\u001b[33m\"\u001b[39m\u001b[33mH2 + O2 → H2O\u001b[39m\u001b[33m\"\u001b[39m))\n\u001b[32m----> \u001b[39m\u001b[32m7\u001b[39m \u001b[38;5;28;01massert\u001b[39;00m \u001b[38;5;129;01mnot\u001b[39;00m is_balanced(\u001b[33m\"\u001b[39m\u001b[33mH2 + O2 → H2O\u001b[39m\u001b[33m\"\u001b[39m)\n\u001b[32m      9\u001b[39m \u001b[38;5;28mprint\u001b[39m(is_balanced(\u001b[33m\"\u001b[39m\u001b[33mCH4 + 2O2 → CO2 + 2H2O\u001b[39m\u001b[33m\"\u001b[39m))\n\u001b[32m     10\u001b[39m \u001b[38;5;28;01massert\u001b[39;00m is_balanced(\u001b[33m\"\u001b[39m\u001b[33mCH4 + 2O2 → CO2 + 2H2O\u001b[39m\u001b[33m\"\u001b[39m)\n",
      "\u001b[31mAssertionError\u001b[39m: "
     ]
    }
   ],
   "source": [
    "# If the outcome is incorrect, the keyword assert will cause an error\n",
    "\n",
    "print(is_balanced(\"2H2 + O2 → 2H2O\"))\n",
    "assert is_balanced(\"2H2 + O2 → 2H2O\")\n",
    "\n",
    "print(is_balanced(\"H2 + O2 → H2O\"))\n",
    "assert not is_balanced(\"H2 + O2 → H2O\")\n",
    "\n",
    "print(is_balanced(\"CH4 + 2O2 → CO2 + 2H2O\"))\n",
    "assert is_balanced(\"CH4 + 2O2 → CO2 + 2H2O\")\n",
    "\n",
    "print(is_balanced(\"N2 + H2 → NH3\"))\n",
    "assert not is_balanced(\"N2 + H2 → NH3\")"
   ]
  },
  {
   "cell_type": "markdown",
   "id": "e8a34c32",
   "metadata": {},
   "source": [
    "## Exercise 3: Reaction Pathway Analyzer\n",
    "\n",
    "**Objective:** Analyze multi-step reaction sequences to find synthesis pathways.\n",
    "\n",
    "**Problem:** Write a program that determines what compounds can be synthesized from starting materials through a series of reactions, and finds a pathway to create a target compound.\n",
    "\n",
    "**Your Task:**\n",
    "Create a function called `find_synthesis_path()` that takes:\n",
    "\n",
    "- A list of starting compounds\n",
    "- A list of reaction equations\n",
    "- A target compound to synthesize\n",
    "\n",
    "The function should return either:\n",
    "\n",
    "- A list of reaction steps that lead to the target compound, OR\n",
    "- A message saying the target cannot be synthesized\n",
    "\n",
    "**Hints:**\n",
    "\n",
    "- Start by creating a set of \"available\" compounds (your starting materials)\n",
    "- For each reaction, check if you have all the reactants needed\n",
    "- If you can perform a reaction, add the products to your available compounds\n",
    "- Keep track of which reactions you've used in what order\n",
    "- Continue until you either find the target or can't make any new compounds\n",
    "\n",
    "#### Computational Thinking:\n",
    "\n",
    "**Decomposition:** Break this into smaller problems\n",
    "\n",
    "- Parse reaction equations\n",
    "- Track available compounds\n",
    "- Check if reactions can be performed\n",
    "- Record the synthesis pathway\n",
    "\n",
    "\n",
    "**Pattern Recognition:** What patterns do you see?\n",
    "\n",
    "- Each reaction has the same format: \"reactants → products\"\n",
    "- You need to repeatedly check if new reactions become possible\n",
    "\n",
    "\n",
    "**Algorithm Design:** What's your step-by-step approach?\n",
    "\n",
    "- Initialize available compounds\n",
    "- Loop: try each reaction, see if possible, update available compounds\n",
    "- Stop when target is found or no progress is made\n",
    "\n",
    "\n",
    "**Abstraction:** What functions might be helpful?\n",
    "\n",
    "- A function to parse a single reaction equation\n",
    "- A function to check if a reaction is possible with current compounds\n",
    "- A function to update available compounds after a reaction\n",
    "\n"
   ]
  },
  {
   "cell_type": "code",
   "execution_count": null,
   "id": "31f54201",
   "metadata": {},
   "outputs": [],
   "source": [
    "from typing import List\n",
    "\n",
    "def find_synthesis_path(starting_materials: List[str], reactions: List[str], target: str) -> List[str] | str:\n",
    "\n",
    "    # Write your code here\n",
    "\n",
    "    "
   ]
  },
  {
   "cell_type": "markdown",
   "id": "8841483b",
   "metadata": {},
   "source": [
    "### Test Cases"
   ]
  },
  {
   "cell_type": "code",
   "execution_count": null,
   "id": "106c1dc0",
   "metadata": {},
   "outputs": [],
   "source": [
    "# Basic Multi-Step Synthesis\n",
    "\n",
    "starting_materials = [\"H2\", \"O2\", \"N2\"]\n",
    "reactions = [\n",
    "    \"2H2 + O2 → 2H2O\",\n",
    "    \"N2 + 3H2 → 2NH3\", \n",
    "    \"NH3 + H2O → NH4OH\"\n",
    "]\n",
    "target = \"NH4OH\"\n",
    "\n",
    "result = find_synthesis_path(starting_materials, reactions, target)\n",
    "print(result)\n",
    "# Expected: Should find a path using H2 + N2 → NH3, then NH3 + H2O → NH4OH"
   ]
  },
  {
   "cell_type": "code",
   "execution_count": null,
   "id": "bf854855",
   "metadata": {},
   "outputs": [],
   "source": [
    "# Direct Synthesis (One Step)\n",
    "\n",
    "starting_materials = [\"Na\", \"Cl2\"]\n",
    "reactions = [\n",
    "    \"2Na + Cl2 → 2NaCl\",\n",
    "    \"NaCl + H2O → NaOH + HCl\"\n",
    "]\n",
    "target = \"NaCl\"\n",
    "\n",
    "result = find_synthesis_path(starting_materials, reactions, target)\n",
    "print(result)\n",
    "# Expected: Should find direct synthesis in one step"
   ]
  },
  {
   "cell_type": "code",
   "execution_count": null,
   "id": "0c1de762",
   "metadata": {},
   "outputs": [],
   "source": [
    "# Impossible Synthesis\n",
    "\n",
    "starting_materials = [\"H2\", \"O2\"]\n",
    "reactions = [\n",
    "    \"2H2 + O2 → 2H2O\",\n",
    "    \"N2 + 3H2 → 2NH3\"  # But we don't have N2!\n",
    "]\n",
    "target = \"NH3\"\n",
    "\n",
    "result = find_synthesis_path(starting_materials, reactions, target)\n",
    "print(result)\n",
    "# Expected: Should return message that NH3 cannot be synthesized"
   ]
  },
  {
   "cell_type": "code",
   "execution_count": null,
   "id": "c5ce6995",
   "metadata": {},
   "outputs": [],
   "source": [
    "# Multiple Pathway Options\n",
    "starting_materials = [\"C\", \"H2\", \"O2\", \"H2O\"]\n",
    "reactions = [\n",
    "    \"C + O2 → CO2\",\n",
    "    \"2H2 + O2 → 2H2O\",\n",
    "    \"CO2 + H2O → H2CO3\",\n",
    "    \"C + 2H2 → CH4\",\n",
    "    \"CH4 + 2O2 → CO2 + 2H2O\"\n",
    "]\n",
    "target = \"CO2\"\n",
    "\n",
    "result = find_synthesis_path(starting_materials, reactions, target)\n",
    "print(result)\n",
    "# Expected: Should find one of multiple possible paths to CO2"
   ]
  },
  {
   "cell_type": "code",
   "execution_count": null,
   "id": "dbbedf25",
   "metadata": {},
   "outputs": [],
   "source": [
    "# Long Chain Synthesis\n",
    "starting_materials = [\"Fe\", \"O2\", \"C\"]\n",
    "reactions = [\n",
    "    \"4Fe + 3O2 → 2Fe2O3\",\n",
    "    \"2C + O2 → 2CO\",\n",
    "    \"Fe2O3 + 3CO → 2Fe + 3CO2\",\n",
    "    \"CO2 + C → 2CO\"\n",
    "]\n",
    "target = \"CO2\"\n",
    "\n",
    "result = find_synthesis_path(starting_materials, reactions, target)\n",
    "print(result)\n",
    "# Expected: Should find the multi-step path involving iron oxide formation and reduction"
   ]
  }
 ],
 "metadata": {
  "kernelspec": {
   "display_name": "Python 3 (ipykernel)",
   "language": "python",
   "name": "python3"
  },
  "language_info": {
   "codemirror_mode": {
    "name": "ipython",
    "version": 3
   },
   "file_extension": ".py",
   "mimetype": "text/x-python",
   "name": "python",
   "nbconvert_exporter": "python",
   "pygments_lexer": "ipython3",
   "version": "3.13.7"
  }
 },
 "nbformat": 4,
 "nbformat_minor": 5
}
