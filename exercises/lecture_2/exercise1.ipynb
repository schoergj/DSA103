{
 "cells": [
  {
   "cell_type": "markdown",
   "id": "c4c7b611",
   "metadata": {},
   "source": [
    "# Lecture 2: Computational Thinking with Python"
   ]
  },
  {
   "cell_type": "markdown",
   "id": "a89a669d",
   "metadata": {},
   "source": [
    "## Key Concept Review"
   ]
  },
  {
   "cell_type": "markdown",
   "id": "a68331ac",
   "metadata": {},
   "source": [
    "### String operations\n",
    "\n",
    "Before we begin the exercises, let's review some essential string operations you'll need:\n",
    "\n",
    "#### Looping Over Strings\n",
    "You can loop through each character in a string using a for loop:"
   ]
  },
  {
   "cell_type": "code",
   "execution_count": 1,
   "id": "ed2d84e8",
   "metadata": {},
   "outputs": [
    {
     "name": "stdout",
     "output_type": "stream",
     "text": [
      "H\n",
      "2\n",
      "O\n"
     ]
    }
   ],
   "source": [
    "formula = \"H2O\"\n",
    "for character in formula:\n",
    "    print(character)"
   ]
  },
  {
   "cell_type": "markdown",
   "id": "b5097448",
   "metadata": {},
   "source": [
    "#### Useful String Methods\n",
    "\n",
    "```python\n",
    "string.isalpha() - returns True if the character is a letter\n",
    "string.isdigit() - returns True if the character is a number\n",
    "string.upper() - converts to uppercase\n",
    "string.lower() - converts to lowercase\n",
    "```\n",
    "\n",
    "Get familiar with these functions by experimenting with them. E.g. what is the output of the following?\n",
    "```python\n",
    "\"H\".isalpha()\n",
    "```"
   ]
  },
  {
   "cell_type": "code",
   "execution_count": null,
   "id": "24e71e33",
   "metadata": {},
   "outputs": [],
   "source": []
  },
  {
   "cell_type": "markdown",
   "id": "5f46cfe2",
   "metadata": {},
   "source": [
    "### String Indexing and Slicing\n",
    "```python\n",
    "formula = \"CH4\"\n",
    "print(formula[0])    # Output: \"C\" (first character)\n",
    "print(formula[1:3])  # Output: \"H4\" (characters from index 1 to 2)\n",
    "print(len(formula))  # Output: 3 (length of string)\n",
    "```\n",
    "Familiarise yourself with these functions.\n"
   ]
  },
  {
   "cell_type": "code",
   "execution_count": null,
   "id": "48efe32d",
   "metadata": {},
   "outputs": [],
   "source": []
  },
  {
   "cell_type": "markdown",
   "id": "2f75cecd",
   "metadata": {},
   "source": [
    "### Converting Strings to Numbers\n",
    "```python\n",
    "number_string = \"42\"\n",
    "number = int(number_string)  # Converts \"42\" to integer 42\n",
    "```\n",
    "\n",
    "Familiarise yourself with these functions."
   ]
  },
  {
   "cell_type": "markdown",
   "id": "6fb0709a",
   "metadata": {},
   "source": [
    "## Exercise 1: Molecular Formula Parser\n",
    "\n",
    "**Objective:** Write a function `parse_molecular_formula(formula)` that counts atoms in molecular formulas. Start with the simple cases, but design your solution to handle increasingly complex inputs without major rewrites.\n",
    "\n",
    "**Think computationally:** How can you break this problem into smaller, reusable pieces that won't need to be completely rewritten when the requirements change?\n"
   ]
  },
  {
   "cell_type": "code",
   "execution_count": 2,
   "id": "5c9aaabe",
   "metadata": {},
   "outputs": [],
   "source": [
    "from typing import Dict\n",
    "\n",
    "def parse_molecular_formula(formula: str) -> Dict[str, int]:\n",
    "    atom_dict = dict()\n",
    "\n",
    "    # Write your code here\n",
    "    \n",
    "    return atom_dict"
   ]
  },
  {
   "cell_type": "markdown",
   "id": "de481166",
   "metadata": {},
   "source": [
    "### Test cases: Set 1 Basic formulae"
   ]
  },
  {
   "cell_type": "markdown",
   "id": "c1181020",
   "metadata": {},
   "source": [
    "The test cases will increase in difficulty with each set. Start with the first set, but think about how your approach will scale to the later, more complex cases."
   ]
  },
  {
   "cell_type": "code",
   "execution_count": 79,
   "id": "f1a87cfe",
   "metadata": {},
   "outputs": [
    {
     "name": "stdout",
     "output_type": "stream",
     "text": [
      "H2O: {'H': 2, 'O': 1} ✓\n",
      "CH4: {'C': 1, 'H': 4} ✓\n",
      "CO2: {'C': 1, 'O': 2} ✓\n",
      "NH3: {'N': 1, 'H': 3} ✓\n"
     ]
    }
   ],
   "source": [
    "# Simple single-letter elements, single-digit counts\n",
    "test_cases_level1 = [\n",
    "    (\"H2O\", {\"H\": 2, \"O\": 1}),\n",
    "    (\"CH4\", {\"C\": 1, \"H\": 4}),\n",
    "    (\"CO2\", {\"C\": 1, \"O\": 2}),\n",
    "    (\"NH3\", {\"N\": 1, \"H\": 3})\n",
    "]\n",
    "\n",
    "def parse_molecular_formula(formula):\n",
    "    a=[]\n",
    "    resulty={}\n",
    "    for i in formula:\n",
    "        a.append(i)\n",
    "    j = 0\n",
    "    while j < len(a):\n",
    "        if j+1 < len(a) and a[j+1].isdigit():   \n",
    "            last_key = a[j]\n",
    "            resulty[last_key] = resulty.get(last_key, 0) + int(a[j+1])\n",
    "            j += 2\n",
    "        else:\n",
    "            last_key = a[j]\n",
    "            resulty[last_key] = resulty.get(last_key, 0) + 1  \n",
    "            j += 1\n",
    "    \n",
    "    return(resulty) \n",
    "    \n",
    "\n",
    "\n",
    "\n",
    "\n",
    "for formula, expected in test_cases_level1:\n",
    "    result = parse_molecular_formula(formula)\n",
    "    print(f\"{formula}: {result} {'✓' if result == expected else '✗'}\")\n"
   ]
  },
  {
   "cell_type": "code",
   "execution_count": 75,
   "id": "f26c4be9-6d6c-499e-a229-67958c2e50a6",
   "metadata": {},
   "outputs": [
    {
     "name": "stdout",
     "output_type": "stream",
     "text": [
      "{'H': 2, 'O': 1}\n"
     ]
    }
   ],
   "source": [
    "atom = \"H2O\"\n",
    "a = []\n",
    "resulty = {}\n",
    "\n",
    "def parse_molecular_formula(formula):\n",
    "\n",
    "    for i in atom:\n",
    "        a.append(i)\n",
    "    j = 0\n",
    "    while j < len(a):\n",
    "        if j+1 < len(a) and a[j+1].isdigit():   \n",
    "            last_key = a[j]\n",
    "            resulty[last_key] = resulty.get(last_key, 0) + int(a[j+1])\n",
    "            j += 2\n",
    "        else:\n",
    "            last_key = a[j]\n",
    "            resulty[last_key] = resulty.get(last_key, 0) + 1  # <-- fixed\n",
    "            j += 1\n",
    "    \n",
    "    return(resulty)\n",
    "        \n",
    "        "
   ]
  },
  {
   "cell_type": "markdown",
   "id": "c59bffda",
   "metadata": {},
   "source": [
    "### Test cases: Set 2 Multi-letter Elements"
   ]
  },
  {
   "cell_type": "code",
   "execution_count": 102,
   "id": "eeaf87b5",
   "metadata": {},
   "outputs": [
    {
     "name": "stdout",
     "output_type": "stream",
     "text": [
      "NaCl: {'Na': 1, 'Cl': 1} ✓\n",
      "CaCl2: {'Ca': 1, 'Cl': 2} ✓\n",
      "MgO: {'Mg': 1, 'O': 1} ✓\n",
      "AlCl3: {'Al': 1, 'Cl': 3} ✓\n",
      "H2SO4: {'H': 2, 'S': 1, 'O': 4} ✓\n"
     ]
    }
   ],
   "source": [
    "# Two-letter elements like Ca, Cl, Na\n",
    "test_cases_level2 = [\n",
    "    (\"NaCl\", {\"Na\": 1, \"Cl\": 1}),\n",
    "    (\"CaCl2\", {\"Ca\": 1, \"Cl\": 2}),\n",
    "    (\"MgO\", {\"Mg\": 1, \"O\": 1}),\n",
    "    (\"AlCl3\", {\"Al\": 1, \"Cl\": 3}),\n",
    "    (\"H2SO4\", {\"H\": 2, \"S\": 1, \"O\": 4})\n",
    "]\n",
    "\n",
    "def parse_molecular_formula2(formula):\n",
    "    a = [ch for ch in formula]\n",
    "    resulty = {}\n",
    "    j = 0\n",
    "    while j < len(a):\n",
    "        elem = a[j]\n",
    "        if j+1 < len(a) and a[j+1].islower():\n",
    "            elem += a[j+1]\n",
    "            j += 1\n",
    "        num_str = \"\"\n",
    "        while j+1 < len(a) and a[j+1].isdigit():\n",
    "            num_str += a[j+1]\n",
    "            j += 1\n",
    "        count = int(num_str) if num_str else 1\n",
    "        resulty[elem] = resulty.get(elem, 0) + count\n",
    "        j += 1\n",
    "    return resulty\n",
    "\n",
    "for formula, expected in test_cases_level2:\n",
    "    result = parse_molecular_formula2(formula)\n",
    "    print(f\"{formula}: {result} {'✓' if result == expected else '✗'}\")\n"
   ]
  },
  {
   "cell_type": "code",
   "execution_count": 91,
   "id": "c30dc5f8-f48e-4a08-90ed-79c7990a8389",
   "metadata": {},
   "outputs": [
    {
     "name": "stdout",
     "output_type": "stream",
     "text": [
      "[2, 4]\n",
      "['Na', 'Cl', '3']\n"
     ]
    }
   ],
   "source": [
    "stri = \"NaCl3\"\n",
    "cut = []\n",
    "point = 0\n",
    "for i in range(len(stri)-1):\n",
    "    if stri[i].islower() == True:\n",
    "        cut.append(i+1)\n",
    "    else:\n",
    "        continue\n",
    "print(cut)  \n",
    "parts = []\n",
    "prev = 0\n",
    "for c in cut:\n",
    "    parts.append(stri[prev:c])\n",
    "    prev = c\n",
    "parts.append(stri[prev:])\n",
    "print(parts)\n",
    "    "
   ]
  },
  {
   "cell_type": "markdown",
   "id": "faa31e87",
   "metadata": {},
   "source": [
    "### Test cases: Set 3 Large Numbers"
   ]
  },
  {
   "cell_type": "code",
   "execution_count": 103,
   "id": "f38856b8",
   "metadata": {},
   "outputs": [
    {
     "name": "stdout",
     "output_type": "stream",
     "text": [
      "C12H22O11: {'C': 12, 'H': 22, 'O': 11} ✓\n",
      "Ca10P6O26: {'Ca': 10, 'P': 6, 'O': 26} ✓\n",
      "C2H5OH: {'C': 2, 'H': 6, 'O': 1} ✓\n",
      "Fe2O3: {'Fe': 2, 'O': 3} ✓\n"
     ]
    }
   ],
   "source": [
    "# Multi-digit counts\n",
    "test_cases_level3 = [\n",
    "    (\"C12H22O11\", {\"C\": 12, \"H\": 22, \"O\": 11}),  # Sucrose\n",
    "    (\"Ca10P6O26\", {\"Ca\": 10, \"P\": 6, \"O\": 26}),   # Hydroxyapatite\n",
    "    (\"C2H5OH\", {\"C\": 2, \"H\": 6, \"O\": 1}),         # Ethanol\n",
    "    (\"Fe2O3\", {\"Fe\": 2, \"O\": 3})                  # Iron oxide\n",
    "]\n",
    "\n",
    "\n",
    "for formula, expected in test_cases_level3:\n",
    "    result = parse_molecular_formula2(formula)\n",
    "    print(f\"{formula}: {result} {'✓' if result == expected else '✗'}\")\n"
   ]
  }
 ],
 "metadata": {
  "kernelspec": {
   "display_name": "Python 3 (ipykernel)",
   "language": "python",
   "name": "python3"
  },
  "language_info": {
   "codemirror_mode": {
    "name": "ipython",
    "version": 3
   },
   "file_extension": ".py",
   "mimetype": "text/x-python",
   "name": "python",
   "nbconvert_exporter": "python",
   "pygments_lexer": "ipython3",
   "version": "3.13.7"
  }
 },
 "nbformat": 4,
 "nbformat_minor": 5
}
